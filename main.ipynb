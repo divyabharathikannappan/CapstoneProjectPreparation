{
 "cells": [
  {
   "cell_type": "code",
   "execution_count": 2,
   "id": "e7fe6cd6-0d35-49ad-babf-307d1628caf1",
   "metadata": {},
   "outputs": [],
   "source": [
    "from data_preprocessing import load_data, preprocess_data\n",
    "from visualization import plot_roc_curve\n",
    "import torch\n",
    "from sklearn.model_selection import train_test_split\n",
    "import torch.nn.functional as F\n",
    "from torch.utils.data import DataLoader, TensorDataset\n",
    "from sklearn.metrics import accuracy_score, classification_report\n",
    "from model import ImprovedBankMarketingModel, train_model, weighted_soft_voting\n",
    "import torch.utils.data as td\n",
    "import warnings\n",
    "warnings.filterwarnings('ignore')\n",
    "import torch.nn as nn\n",
    "from sklearn.preprocessing import StandardScaler, LabelEncoder\n",
    "from ComputeMetrics import calculate_recall, calculate_accuracy, calculate_precision\n",
    "from sklearn.metrics import confusion_matrix\n",
    "from CostFunction import cost_sensitive_metric\n",
    "from model import FocalLoss\n",
    " "
   ]
  },
  {
   "cell_type": "code",
   "execution_count": 3,
   "id": "8ec15a16",
   "metadata": {},
   "outputs": [],
   "source": [
    "data = load_data('bank_customers_train.csv')\n",
    "processed_data = preprocess_data(data)    \n",
    "# Split the data into features and target\n",
    "scaler = StandardScaler()\n",
    "x = scaler.fit_transform(processed_data.drop(columns=['y']))  # Drop target column\n",
    "y = LabelEncoder().fit_transform(processed_data['y'])  # Encode target labels\n",
    "\n"
   ]
  },
  {
   "cell_type": "code",
   "execution_count": 4,
   "id": "e2635301",
   "metadata": {},
   "outputs": [],
   "source": [
    "\n",
    "# Train-test split\n",
    "x_train, x_test, y_train, y_test = train_test_split(x, y, test_size=0.2, random_state=42)\n",
    "\n",
    "# Normalize the features\n",
    "x_train = scaler.fit_transform(x_train)\n",
    "x_test = scaler.transform(x_test)\n",
    "\n",
    "# Convert to PyTorch tensors\n",
    "train_x = torch.tensor(x_train, dtype=torch.float32)\n",
    "train_y = torch.tensor(y_train, dtype=torch.long)\n",
    "test_x = torch.tensor(x_test, dtype=torch.float32)\n",
    "test_y = torch.tensor(y_test, dtype=torch.long)\n",
    "\n",
    "# Create DataLoader for batching\n",
    "train_data = td.TensorDataset(train_x, train_y)\n",
    "test_data = td.TensorDataset(test_x, test_y)\n",
    "train_loader = td.DataLoader(train_data, batch_size=64, shuffle=True)\n",
    "test_loader = td.DataLoader(test_data, batch_size=64, shuffle=False)\n"
   ]
  },
  {
   "cell_type": "code",
   "execution_count": null,
   "id": "fbacaab3-3051-4e35-b1ce-f195069d29b2",
   "metadata": {},
   "outputs": [
    {
     "name": "stdout",
     "output_type": "stream",
     "text": [
      "Epoch 1/10, Loss: 79.0463\n",
      "Epoch 2/10, Loss: 75.8364\n",
      "Epoch 3/10, Loss: 75.1800\n",
      "Epoch 4/10, Loss: 74.6301\n",
      "Epoch 5/10, Loss: 74.3703\n",
      "Epoch 6/10, Loss: 74.1651\n",
      "Epoch 7/10, Loss: 74.0251\n",
      "Epoch 8/10, Loss: 73.7724\n",
      "Epoch 9/10, Loss: 73.6367\n",
      "Epoch 10/10, Loss: 73.4987\n",
      "Epoch 1/10, Loss: 78.5072\n",
      "Epoch 2/10, Loss: 75.3573\n",
      "Epoch 3/10, Loss: 74.8264\n",
      "Epoch 4/10, Loss: 74.5709\n",
      "Epoch 5/10, Loss: 74.2711\n",
      "Epoch 6/10, Loss: 74.1718\n",
      "Epoch 7/10, Loss: 73.7254\n",
      "Epoch 8/10, Loss: 73.6976\n",
      "Epoch 9/10, Loss: 73.6054\n",
      "Epoch 10/10, Loss: 73.3357\n",
      "Epoch 1/10, Loss: 79.2294\n",
      "Epoch 2/10, Loss: 75.7026\n",
      "Epoch 3/10, Loss: 75.0070\n",
      "Epoch 4/10, Loss: 74.6900\n",
      "Epoch 5/10, Loss: 74.3641\n",
      "Epoch 6/10, Loss: 74.2346\n",
      "Epoch 7/10, Loss: 73.8128\n",
      "Epoch 8/10, Loss: 73.7700\n",
      "Epoch 9/10, Loss: 73.6221\n",
      "Epoch 10/10, Loss: 73.6411\n"
     ]
    },
    {
     "data": {
      "text/plain": [
       "'print(\"Final Accuracy:\", accuracy_score(y_test, final_preds))\\nprint(\"Classification Report:\")\\nprint(classification_report(y_test, final_preds))'"
      ]
     },
     "execution_count": 5,
     "metadata": {},
     "output_type": "execute_result"
    }
   ],
   "source": [
    "criterion = FocalLoss(alpha=1, gamma=2)\n",
    "\n",
    "# Define hyperparameters\n",
    "input_dim = x_train.shape[1]\n",
    "hidden_dim = 128\n",
    "output_dim = 2\n",
    "num_models = 3\n",
    "epochs = 10\n",
    "threshold = 0.3\n",
    "\n",
    "# Prepare data loaders (replace x_train, y_train with actual datasets)\n",
    "train_dataset = TensorDataset(torch.tensor(x_train, dtype=torch.float32), torch.tensor(y_train, dtype=torch.long))\n",
    "train_loader = DataLoader(train_dataset, batch_size=32, shuffle=True)\n",
    "\n",
    "# Train ensemble models\n",
    "models = []\n",
    "weights = []\n",
    "\n",
    "for i in range(num_models):\n",
    "    model = ImprovedBankMarketingModel(input_dim, hidden_dim, output_dim)\n",
    "    optimizer = torch.optim.Adam(model.parameters(), lr=0.001)\n",
    "    criterion = FocalLoss(alpha=1, gamma=2)  # Replace with the actual implementation of FocalLoss\n",
    "    train_model(model, train_loader, criterion, optimizer, epochs)\n",
    "    models.append(model)\n",
    "    weights.append(1.0)\n",
    "\n",
    "# Test ensemble model (replace test_x and y_test with actual datasets)\n",
    "test_x_tensor = torch.tensor(test_x, dtype=torch.float32)\n",
    "ensemble_probs = weighted_soft_voting(models, weights, test_x_tensor)\n",
    "final_preds = (ensemble_probs >= threshold).astype(int)\n",
    "\n"
   ]
  },
  {
   "cell_type": "code",
   "execution_count": 7,
   "id": "bcaeeaab-30a3-4a4e-b200-fa8b4289b49f",
   "metadata": {},
   "outputs": [
    {
     "name": "stdout",
     "output_type": "stream",
     "text": [
      "Accuracy of the model: 80.30% \n",
      "\n",
      "Recall of the model: 71.36%\n",
      "\n",
      "Precision of the model: 32.71%\n",
      "\n",
      "Confusion Matrix:\n",
      "[[5666 1292]\n",
      " [ 252  628]]\n",
      "\n",
      "Classification Report:\n",
      "              precision    recall  f1-score   support\n",
      "\n",
      "           0       0.96      0.81      0.88      6958\n",
      "           1       0.33      0.71      0.45       880\n",
      "\n",
      "    accuracy                           0.80      7838\n",
      "   macro avg       0.64      0.76      0.66      7838\n",
      "weighted avg       0.89      0.80      0.83      7838\n",
      "\n",
      "\n",
      "Total Misclassification Cost: 19060\n"
     ]
    }
   ],
   "source": [
    "# Evaluate the ensemble model\n",
    "accuracy = calculate_accuracy(y_test, final_preds)\n",
    "recall = calculate_recall(y_test, final_preds)\n",
    "precision = calculate_precision(y_test, final_preds)\n",
    "conf_matrix = confusion_matrix(y_test, final_preds)\n",
    "class_report = classification_report(y_test, final_preds)\n",
    "total_cost = cost_sensitive_metric(y_test, final_preds)\n",
    "\n",
    "# Print evaluation metrics\n",
    "print(f\"Accuracy of the model: {accuracy*100:.2f}% \\n\")\n",
    "print(f\"Recall of the model: {recall*100:.2f}%\\n\")\n",
    "print(f\"Precision of the model: {precision*100:.2f}%\\n\")\n",
    "print(\"Confusion Matrix:\")\n",
    "print(conf_matrix)\n",
    "print(\"\\nClassification Report:\")\n",
    "print(class_report)\n",
    "print(f\"\\nTotal Misclassification Cost: {total_cost}\")\n"
   ]
  },
  {
   "cell_type": "code",
   "execution_count": null,
   "id": "cf9564f9",
   "metadata": {},
   "outputs": [],
   "source": []
  }
 ],
 "metadata": {
  "kernelspec": {
   "display_name": "py-torch-tf-env",
   "language": "python",
   "name": "python3"
  },
  "language_info": {
   "codemirror_mode": {
    "name": "ipython",
    "version": 3
   },
   "file_extension": ".py",
   "mimetype": "text/x-python",
   "name": "python",
   "nbconvert_exporter": "python",
   "pygments_lexer": "ipython3",
   "version": "3.10.13"
  }
 },
 "nbformat": 4,
 "nbformat_minor": 5
}
